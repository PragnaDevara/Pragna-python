{
  "nbformat": 4,
  "nbformat_minor": 0,
  "metadata": {
    "colab": {
      "name": "Day 9(30-01-2020).ipynb",
      "provenance": [],
      "authorship_tag": "ABX9TyNNyril5RSjR1CUI5nOKBBo",
      "include_colab_link": true
    },
    "kernelspec": {
      "name": "python3",
      "display_name": "Python 3"
    }
  },
  "cells": [
    {
      "cell_type": "markdown",
      "metadata": {
        "id": "view-in-github",
        "colab_type": "text"
      },
      "source": [
        "<a href=\"https://colab.research.google.com/github/PragnaDevara/Pragna-python/blob/master/Day_9(30_01_2020).ipynb\" target=\"_parent\"><img src=\"https://colab.research.google.com/assets/colab-badge.svg\" alt=\"Open In Colab\"/></a>"
      ]
    },
    {
      "cell_type": "code",
      "metadata": {
        "id": "2gAmE_-O7wdG",
        "colab_type": "code",
        "colab": {}
      },
      "source": [
        ""
      ],
      "execution_count": 0,
      "outputs": []
    },
    {
      "cell_type": "markdown",
      "metadata": {
        "id": "dfAcBKp39k9-",
        "colab_type": "text"
      },
      "source": [
        "# MarkDown\n",
        "## MarkDown\n",
        "### MarkDown\n",
        "#### MarkDown\n"
      ]
    },
    {
      "cell_type": "code",
      "metadata": {
        "id": "TF6WrhE09wqX",
        "colab_type": "code",
        "colab": {}
      },
      "source": [
        ""
      ],
      "execution_count": 0,
      "outputs": []
    },
    {
      "cell_type": "markdown",
      "metadata": {
        "id": "JMdlIKwv-aHW",
        "colab_type": "text"
      },
      "source": [
        "**Points**\n",
        "\n",
        "*Points*\n",
        "\n",
        "***Points***\n"
      ]
    },
    {
      "cell_type": "code",
      "metadata": {
        "id": "MiWstkFYBC0V",
        "colab_type": "code",
        "colab": {}
      },
      "source": [
        ""
      ],
      "execution_count": 0,
      "outputs": []
    },
    {
      "cell_type": "markdown",
      "metadata": {
        "id": "tqsLe2kHBDwv",
        "colab_type": "text"
      },
      "source": [
        "*** Adding Links ***\n",
        "\n",
        "[site](https://www.jntua.ac.in/)"
      ]
    },
    {
      "cell_type": "code",
      "metadata": {
        "id": "ywh0Inp_BW0z",
        "colab_type": "code",
        "colab": {}
      },
      "source": [
        ""
      ],
      "execution_count": 0,
      "outputs": []
    },
    {
      "cell_type": "markdown",
      "metadata": {
        "id": "ZvLKyWyWBsOV",
        "colab_type": "text"
      },
      "source": [
        "### Inserting image\n",
        "![text](data:image/jpeg;base64,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)"
      ]
    },
    {
      "cell_type": "code",
      "metadata": {
        "id": "7g_FPOVJCJ8S",
        "colab_type": "code",
        "colab": {
          "base_uri": "https://localhost:8080/",
          "height": 34
        },
        "outputId": "2b49f57c-278e-4007-bd55-b2431f41e55d"
      },
      "source": [
        "print(\"HelloWorld\")"
      ],
      "execution_count": 2,
      "outputs": [
        {
          "output_type": "stream",
          "text": [
            "HelloWorld\n"
          ],
          "name": "stdout"
        }
      ]
    },
    {
      "cell_type": "code",
      "metadata": {
        "id": "ytAYXI2hC7TW",
        "colab_type": "code",
        "colab": {
          "base_uri": "https://localhost:8080/",
          "height": 34
        },
        "outputId": "ff4b471e-b744-4406-93cc-84bfe74780f1"
      },
      "source": [
        "print(\"Hello World\")"
      ],
      "execution_count": 3,
      "outputs": [
        {
          "output_type": "stream",
          "text": [
            "Hello World\n"
          ],
          "name": "stdout"
        }
      ]
    },
    {
      "cell_type": "code",
      "metadata": {
        "id": "buc8qbNIDEFn",
        "colab_type": "code",
        "colab": {
          "base_uri": "https://localhost:8080/",
          "height": 34
        },
        "outputId": "a724c041-0619-4af5-b1c0-c796fc6235bc"
      },
      "source": [
        "#variable creation\n",
        "n1=100\n",
        "n1"
      ],
      "execution_count": 4,
      "outputs": [
        {
          "output_type": "execute_result",
          "data": {
            "text/plain": [
              "100"
            ]
          },
          "metadata": {
            "tags": []
          },
          "execution_count": 4
        }
      ]
    },
    {
      "cell_type": "code",
      "metadata": {
        "id": "1fIbr76NJoXU",
        "colab_type": "code",
        "colab": {
          "base_uri": "https://localhost:8080/",
          "height": 68
        },
        "outputId": "227b6f16-90c8-4561-f976-e5ad6cb26ece"
      },
      "source": [
        "n1=111\n",
        "print(n1)\n",
        "a=b=c=10\n",
        "print(a,b,c)\n",
        "a1,b1,c1=100,200,300\n",
        "print(a1,b1,c1)"
      ],
      "execution_count": 8,
      "outputs": [
        {
          "output_type": "stream",
          "text": [
            "111\n",
            "10 10 10\n",
            "100 200 300\n"
          ],
          "name": "stdout"
        }
      ]
    },
    {
      "cell_type": "code",
      "metadata": {
        "id": "DkP4DLVPJul1",
        "colab_type": "code",
        "colab": {
          "base_uri": "https://localhost:8080/",
          "height": 34
        },
        "outputId": "cdd239bb-a9ea-4611-ab08-f9a294371092"
      },
      "source": [
        "a=100\n",
        "s1=20.25\n",
        "s2=\"python\"\n",
        "print(type(a),type(s1),type(s2))"
      ],
      "execution_count": 9,
      "outputs": [
        {
          "output_type": "stream",
          "text": [
            "<class 'int'> <class 'float'> <class 'str'>\n"
          ],
          "name": "stdout"
        }
      ]
    },
    {
      "cell_type": "code",
      "metadata": {
        "id": "nRnkdC8_LSk1",
        "colab_type": "code",
        "colab": {
          "base_uri": "https://localhost:8080/",
          "height": 68
        },
        "outputId": "ed8b9193-78bf-4ef7-b2f1-dcff33129d53"
      },
      "source": [
        "i=100\n",
        "print(type(i))\n",
        "s1=str(i)\n",
        "print(type(s1))\n",
        "s2=float(i)\n",
        "print(type(s2))"
      ],
      "execution_count": 12,
      "outputs": [
        {
          "output_type": "stream",
          "text": [
            "<class 'int'>\n",
            "<class 'str'>\n",
            "<class 'float'>\n"
          ],
          "name": "stdout"
        }
      ]
    },
    {
      "cell_type": "code",
      "metadata": {
        "id": "-ij2Up46L9SD",
        "colab_type": "code",
        "colab": {
          "base_uri": "https://localhost:8080/",
          "height": 34
        },
        "outputId": "6a3551e7-a122-461c-fdd6-98abf8f17e0d"
      },
      "source": [
        "a=\"123456789\"\n",
        "print(len(a))\n"
      ],
      "execution_count": 14,
      "outputs": [
        {
          "output_type": "stream",
          "text": [
            "9\n"
          ],
          "name": "stdout"
        }
      ]
    },
    {
      "cell_type": "code",
      "metadata": {
        "id": "t0UJ_nwGMvip",
        "colab_type": "code",
        "colab": {}
      },
      "source": [
        ""
      ],
      "execution_count": 0,
      "outputs": []
    },
    {
      "cell_type": "markdown",
      "metadata": {
        "id": "5JZxdM0SNe6G",
        "colab_type": "text"
      },
      "source": [
        "**Reading input from user**"
      ]
    },
    {
      "cell_type": "code",
      "metadata": {
        "id": "BXIDLZAjNkGj",
        "colab_type": "code",
        "colab": {
          "base_uri": "https://localhost:8080/",
          "height": 68
        },
        "outputId": "b97ac317-2bc1-48ee-901d-2d440a125770"
      },
      "source": [
        "a=input(\"Enter your name : \")\n",
        "print(a)\n",
        "print(type(a))"
      ],
      "execution_count": 16,
      "outputs": [
        {
          "output_type": "stream",
          "text": [
            "Enter your name : Pragna\n",
            "Pragna\n",
            "<class 'str'>\n"
          ],
          "name": "stdout"
        }
      ]
    },
    {
      "cell_type": "code",
      "metadata": {
        "id": "UqVOMF8BNrhk",
        "colab_type": "code",
        "colab": {
          "base_uri": "https://localhost:8080/",
          "height": 68
        },
        "outputId": "14fded32-c299-42f0-c0ad-113a55111031"
      },
      "source": [
        "b=int(input(\"Enter your age: \"))\n",
        "print(b)\n",
        "print(type(b))"
      ],
      "execution_count": 18,
      "outputs": [
        {
          "output_type": "stream",
          "text": [
            "Enter your age: 20\n",
            "20\n",
            "<class 'int'>\n"
          ],
          "name": "stdout"
        }
      ]
    },
    {
      "cell_type": "code",
      "metadata": {
        "id": "dYnZOWfNOguk",
        "colab_type": "code",
        "colab": {}
      },
      "source": [
        ""
      ],
      "execution_count": 0,
      "outputs": []
    },
    {
      "cell_type": "markdown",
      "metadata": {
        "id": "K48ZWRgOO6wt",
        "colab_type": "text"
      },
      "source": [
        "# **Operators**\n",
        "\n",
        "*Operator is a symbol used to perform a specific kind of information*"
      ]
    },
    {
      "cell_type": "code",
      "metadata": {
        "id": "LWIGFYfzO-4B",
        "colab_type": "code",
        "colab": {}
      },
      "source": [
        ""
      ],
      "execution_count": 0,
      "outputs": []
    },
    {
      "cell_type": "markdown",
      "metadata": {
        "id": "RMPwzvCPPR2b",
        "colab_type": "text"
      },
      "source": [
        "# **Arthimetic Operator**"
      ]
    },
    {
      "cell_type": "code",
      "metadata": {
        "id": "rq8-zsbtPX8j",
        "colab_type": "code",
        "colab": {
          "base_uri": "https://localhost:8080/",
          "height": 136
        },
        "outputId": "cded3c7b-9324-4102-fca4-783ebccebe11"
      },
      "source": [
        "a=123\n",
        "print(a+10)\n",
        "print(a-10)\n",
        "print(a*10)\n",
        "print(a/10)\n",
        "print(a%10)\n",
        "print(a//10)\n",
        "print(a**10)"
      ],
      "execution_count": 20,
      "outputs": [
        {
          "output_type": "stream",
          "text": [
            "133\n",
            "113\n",
            "1230\n",
            "12.3\n",
            "3\n",
            "12\n",
            "792594609605189126649\n"
          ],
          "name": "stdout"
        }
      ]
    },
    {
      "cell_type": "code",
      "metadata": {
        "id": "C57y3hViP_y7",
        "colab_type": "code",
        "colab": {}
      },
      "source": [
        ""
      ],
      "execution_count": 0,
      "outputs": []
    },
    {
      "cell_type": "markdown",
      "metadata": {
        "id": "2HPGRh32R1SH",
        "colab_type": "text"
      },
      "source": [
        "# **Relational Operators**"
      ]
    },
    {
      "cell_type": "code",
      "metadata": {
        "id": "PouTUm7cR5oX",
        "colab_type": "code",
        "colab": {
          "base_uri": "https://localhost:8080/",
          "height": 34
        },
        "outputId": "e3066e09-8f2b-444b-b515-8205726beb69"
      },
      "source": [
        "a=10\n",
        "a1 = a > 15\n",
        "print(a1)"
      ],
      "execution_count": 22,
      "outputs": [
        {
          "output_type": "stream",
          "text": [
            "False\n"
          ],
          "name": "stdout"
        }
      ]
    },
    {
      "cell_type": "markdown",
      "metadata": {
        "id": "taSJCJrlS6mI",
        "colab_type": "text"
      },
      "source": [
        "#  **Logical Operators**"
      ]
    },
    {
      "cell_type": "code",
      "metadata": {
        "id": "k6wrhkqWTCXD",
        "colab_type": "code",
        "colab": {
          "base_uri": "https://localhost:8080/",
          "height": 68
        },
        "outputId": "fa6ef969-9e7f-4976-d862-48f1614d8498"
      },
      "source": [
        "i = 100\n",
        "a1 = (i>15) and (i<800)\n",
        "a2 = (i>15) or (i>800)\n",
        "a3 = not 100\n",
        "print(a1)\n",
        "print(a2)\n",
        "print(a3)\n"
      ],
      "execution_count": 27,
      "outputs": [
        {
          "output_type": "stream",
          "text": [
            "True\n",
            "True\n",
            "False\n"
          ],
          "name": "stdout"
        }
      ]
    },
    {
      "cell_type": "markdown",
      "metadata": {
        "id": "iIo5URtQUjeI",
        "colab_type": "text"
      },
      "source": [
        "# **Control Flow Statements**\n",
        "*Conditional Statements*\n",
        "\n",
        "*Looping Statements*"
      ]
    },
    {
      "cell_type": "code",
      "metadata": {
        "id": "7oEHFLK7U4an",
        "colab_type": "code",
        "colab": {
          "base_uri": "https://localhost:8080/",
          "height": 51
        },
        "outputId": "800e066d-487f-4025-b253-69787f39b8b5"
      },
      "source": [
        "# if-else Statement\n",
        "n = int(input(\"Enter the number : \"))\n",
        "if n%2==0:\n",
        "  print(n,\" is an even number\")\n",
        "else:\n",
        "  print(n,\" is an odd number \")"
      ],
      "execution_count": 30,
      "outputs": [
        {
          "output_type": "stream",
          "text": [
            "Enter the number : 4\n",
            "4  is an even number\n"
          ],
          "name": "stdout"
        }
      ]
    },
    {
      "cell_type": "code",
      "metadata": {
        "id": "GHhMC7eIXCN7",
        "colab_type": "code",
        "colab": {
          "base_uri": "https://localhost:8080/",
          "height": 51
        },
        "outputId": "9a123597-35be-4c4f-d0c7-9785d8199f7d"
      },
      "source": [
        "n = int(input(\"Enter Number : \"))\n",
        "if n%3==0 and n%5==0 :\n",
        "  print(n,\"is multiple of 3 and 5\")\n",
        "else:\n",
        "  print(n,\"is not a multiple of 3 and 5\")"
      ],
      "execution_count": 32,
      "outputs": [
        {
          "output_type": "stream",
          "text": [
            "Enter Number : 5\n",
            "5 is not a multiple of 3 and 5\n"
          ],
          "name": "stdout"
        }
      ]
    },
    {
      "cell_type": "code",
      "metadata": {
        "id": "Z8HZZocRZbqT",
        "colab_type": "code",
        "colab": {
          "base_uri": "https://localhost:8080/",
          "height": 51
        },
        "outputId": "36243906-5c9a-42ff-eed9-ec4055f51059"
      },
      "source": [
        "n = int(input(\"Enter a number : \"))\n",
        "if n>0:\n",
        "  print(n,\"is a positive\")\n",
        "elif n<0:\n",
        "  print(n,\"is a negative number\")"
      ],
      "execution_count": 33,
      "outputs": [
        {
          "output_type": "stream",
          "text": [
            "Enter a number : -10\n",
            "-10 is a negative number\n"
          ],
          "name": "stdout"
        }
      ]
    },
    {
      "cell_type": "code",
      "metadata": {
        "id": "_nfBzoK1Z7gi",
        "colab_type": "code",
        "colab": {
          "base_uri": "https://localhost:8080/",
          "height": 85
        },
        "outputId": "0c157a7f-eb69-4b8b-d459-ebfdf4f19427"
      },
      "source": [
        "a=int(input(\"Enter a : \"))\n",
        "b=int(input(\"Enter b : \"))\n",
        "c=int(input(\"Enter c : \"))\n",
        "if a>b and a>c:\n",
        "  print(a,\"is greatest\")\n",
        "elif b>a and b>c:\n",
        "  print(b,\"is greatest\")\n",
        "else:\n",
        "  print(c,\"is greatest\") "
      ],
      "execution_count": 34,
      "outputs": [
        {
          "output_type": "stream",
          "text": [
            "Enter a : 10\n",
            "Enter b : 20\n",
            "Enter c : 30\n",
            "30 is greatest\n"
          ],
          "name": "stdout"
        }
      ]
    },
    {
      "cell_type": "code",
      "metadata": {
        "id": "Yw2hcwAia10h",
        "colab_type": "code",
        "colab": {
          "base_uri": "https://localhost:8080/",
          "height": 51
        },
        "outputId": "3dc61144-279d-422d-b911-df5563936ccc"
      },
      "source": [
        "a=int(input(\"Enter year:\"))\n",
        "if a%4==0:\n",
        "  print(a,\"is a leap year\")\n",
        "else:\n",
        "  print(a,\"is not leap year\")"
      ],
      "execution_count": 35,
      "outputs": [
        {
          "output_type": "stream",
          "text": [
            "Enter year:2000\n",
            "2000 is a leap year\n"
          ],
          "name": "stdout"
        }
      ]
    }
  ]
}