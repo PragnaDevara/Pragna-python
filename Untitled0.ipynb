{
  "nbformat": 4,
  "nbformat_minor": 0,
  "metadata": {
    "colab": {
      "name": "Untitled0.ipynb",
      "provenance": [],
      "authorship_tag": "ABX9TyMopYKXfcwcogSY4Hw2espP",
      "include_colab_link": true
    },
    "kernelspec": {
      "name": "python3",
      "display_name": "Python 3"
    }
  },
  "cells": [
    {
      "cell_type": "markdown",
      "metadata": {
        "id": "view-in-github",
        "colab_type": "text"
      },
      "source": [
        "<a href=\"https://colab.research.google.com/github/PragnaDevara/Pragna-python/blob/master/Untitled0.ipynb\" target=\"_parent\"><img src=\"https://colab.research.google.com/assets/colab-badge.svg\" alt=\"Open In Colab\"/></a>"
      ]
    },
    {
      "cell_type": "code",
      "metadata": {
        "id": "sEa11HcY-lcd",
        "colab_type": "code",
        "colab": {}
      },
      "source": [
        ""
      ],
      "execution_count": 0,
      "outputs": []
    },
    {
      "cell_type": "markdown",
      "metadata": {
        "id": "zCjYeURg-mVi",
        "colab_type": "text"
      },
      "source": [
        "# markboard\n",
        "## markboard\n",
        "**points**\n",
        "*points*\n",
        "***points***"
      ]
    },
    {
      "cell_type": "code",
      "metadata": {
        "id": "LwEfinuF_p_K",
        "colab_type": "code",
        "colab": {
          "base_uri": "https://localhost:8080/",
          "height": 34
        },
        "outputId": "d21483d6-f68e-4dea-f2b3-5e27f8bef151"
      },
      "source": [
        "print(\"hello world!\")"
      ],
      "execution_count": 3,
      "outputs": [
        {
          "output_type": "stream",
          "text": [
            "hello world!\n"
          ],
          "name": "stdout"
        }
      ]
    },
    {
      "cell_type": "code",
      "metadata": {
        "id": "VH65RXFYCiX3",
        "colab_type": "code",
        "colab": {
          "base_uri": "https://localhost:8080/",
          "height": 34
        },
        "outputId": "8349188b-74e7-42a4-db78-99ac786a87ab"
      },
      "source": [
        "print(\"hello\")"
      ],
      "execution_count": 4,
      "outputs": [
        {
          "output_type": "stream",
          "text": [
            "hello\n"
          ],
          "name": "stdout"
        }
      ]
    },
    {
      "cell_type": "code",
      "metadata": {
        "id": "BzBgM4_ZDI_L",
        "colab_type": "code",
        "colab": {}
      },
      "source": [
        "# variable"
      ],
      "execution_count": 0,
      "outputs": []
    },
    {
      "cell_type": "code",
      "metadata": {
        "id": "Hsfx1yMhH-JL",
        "colab_type": "code",
        "colab": {
          "base_uri": "https://localhost:8080/",
          "height": 129
        },
        "outputId": "11fc1b04-769f-4b1a-e3db-bb728ce2443d"
      },
      "source": [
        "print(\"hello\",\"//\n",
        "\")"
      ],
      "execution_count": 5,
      "outputs": [
        {
          "output_type": "error",
          "ename": "SyntaxError",
          "evalue": "ignored",
          "traceback": [
            "\u001b[0;36m  File \u001b[0;32m\"<ipython-input-5-013be896fa6b>\"\u001b[0;36m, line \u001b[0;32m1\u001b[0m\n\u001b[0;31m    print(\"hello\",\"//\u001b[0m\n\u001b[0m                     ^\u001b[0m\n\u001b[0;31mSyntaxError\u001b[0m\u001b[0;31m:\u001b[0m EOL while scanning string literal\n"
          ]
        }
      ]
    },
    {
      "cell_type": "code",
      "metadata": {
        "id": "LwplOa8YI8Bm",
        "colab_type": "code",
        "colab": {
          "base_uri": "https://localhost:8080/",
          "height": 68
        },
        "outputId": "93033bfc-cf54-49af-8275-1816cb2120a4"
      },
      "source": [
        "n1 = 100 # single variable assignment\n",
        "print(n1)\n",
        "a = b = c = 10 # multi variable assignment of same value\n",
        "print(a,b,c)\n",
        "a1,b1,c1 = 100,200,300 # multiple variable assignment with different values\n",
        "print(a1,b1,c1)\n"
      ],
      "execution_count": 8,
      "outputs": [
        {
          "output_type": "stream",
          "text": [
            "100\n",
            "10 10 10\n",
            "100 200 300\n"
          ],
          "name": "stdout"
        }
      ]
    },
    {
      "cell_type": "code",
      "metadata": {
        "id": "_0xoji1FI5UN",
        "colab_type": "code",
        "colab": {}
      },
      "source": [
        ""
      ],
      "execution_count": 0,
      "outputs": []
    },
    {
      "cell_type": "markdown",
      "metadata": {
        "id": "lGFOSSQSKbEJ",
        "colab_type": "text"
      },
      "source": [
        "# Data types and conversions\n",
        "* int\n",
        "* float\n",
        "* string"
      ]
    },
    {
      "cell_type": "code",
      "metadata": {
        "id": "gBCI9sTpKwOG",
        "colab_type": "code",
        "colab": {
          "base_uri": "https://localhost:8080/",
          "height": 34
        },
        "outputId": "bf42cc99-3572-4610-f75d-561730666891"
      },
      "source": [
        "a = 100\n",
        "s1 = 10.2\n",
        "s2 = \"python\"\n",
        "print(type(a),type(s1),type(s2))"
      ],
      "execution_count": 11,
      "outputs": [
        {
          "output_type": "stream",
          "text": [
            "<class 'int'> <class 'float'> <class 'str'>\n"
          ],
          "name": "stdout"
        }
      ]
    },
    {
      "cell_type": "code",
      "metadata": {
        "id": "U1p8_GCTLYKb",
        "colab_type": "code",
        "colab": {
          "base_uri": "https://localhost:8080/",
          "height": 68
        },
        "outputId": "6c9d1801-d620-4e93-faeb-0cdb2441bd60"
      },
      "source": [
        "i = 100\n",
        "print(type(i))\n",
        "s1 = str(i)\n",
        "print(type(s1))\n",
        "f1 = float(i)\n",
        "print(type(f1))"
      ],
      "execution_count": 12,
      "outputs": [
        {
          "output_type": "stream",
          "text": [
            "<class 'int'>\n",
            "<class 'str'>\n",
            "<class 'float'>\n"
          ],
          "name": "stdout"
        }
      ]
    },
    {
      "cell_type": "code",
      "metadata": {
        "id": "PrH9P04JMRHY",
        "colab_type": "code",
        "colab": {
          "base_uri": "https://localhost:8080/",
          "height": 34
        },
        "outputId": "304d0fc7-6c88-40b1-e496-80e41592316a"
      },
      "source": [
        "# length\n",
        " a = 123456\n",
        " print(len(str(a)))"
      ],
      "execution_count": 16,
      "outputs": [
        {
          "output_type": "stream",
          "text": [
            "6\n"
          ],
          "name": "stdout"
        }
      ]
    },
    {
      "cell_type": "code",
      "metadata": {
        "id": "oWLgBW8jM7-Y",
        "colab_type": "code",
        "colab": {}
      },
      "source": [
        ""
      ],
      "execution_count": 0,
      "outputs": []
    },
    {
      "cell_type": "markdown",
      "metadata": {
        "id": "4wzjJta8NgnP",
        "colab_type": "text"
      },
      "source": [
        "reading input from input information"
      ]
    },
    {
      "cell_type": "code",
      "metadata": {
        "id": "mcYUCr1NN0b1",
        "colab_type": "code",
        "colab": {
          "base_uri": "https://localhost:8080/",
          "height": 68
        },
        "outputId": "903d1506-4039-4854-b86c-0f698a7248c0"
      },
      "source": [
        "a = input(\"enter u name  : \")\n",
        "print(a)\n",
        "print(type (a))"
      ],
      "execution_count": 17,
      "outputs": [
        {
          "output_type": "stream",
          "text": [
            "enter u name  : hyd\n",
            "hyd\n",
            "<class 'str'>\n"
          ],
          "name": "stdout"
        }
      ]
    },
    {
      "cell_type": "code",
      "metadata": {
        "id": "y6J96_8VOJ8t",
        "colab_type": "code",
        "colab": {}
      },
      "source": [
        "hyd"
      ],
      "execution_count": 0,
      "outputs": []
    },
    {
      "cell_type": "code",
      "metadata": {
        "id": "FT3HGuiMOj3E",
        "colab_type": "code",
        "colab": {
          "base_uri": "https://localhost:8080/",
          "height": 68
        },
        "outputId": "b6d881ce-4828-4419-ca3f-07933b165b1e"
      },
      "source": [
        "B = int(input(\"enter ur age  : \"))\n",
        "print(B)\n",
        "print(type(B))"
      ],
      "execution_count": 18,
      "outputs": [
        {
          "output_type": "stream",
          "text": [
            "enter ur age  : 21\n",
            "21\n",
            "<class 'int'>\n"
          ],
          "name": "stdout"
        }
      ]
    },
    {
      "cell_type": "markdown",
      "metadata": {
        "id": "oJbvraJpPCnP",
        "colab_type": "text"
      },
      "source": [
        "# operator\n",
        "## operator is a symbol used to perform a specific kind of operations"
      ]
    },
    {
      "cell_type": "code",
      "metadata": {
        "id": "0LkRyhVFPg5U",
        "colab_type": "code",
        "colab": {}
      },
      "source": [
        ""
      ],
      "execution_count": 0,
      "outputs": []
    },
    {
      "cell_type": "markdown",
      "metadata": {
        "id": "iiZghPYpPhSU",
        "colab_type": "text"
      },
      "source": [
        "### arthimetic operations"
      ]
    },
    {
      "cell_type": "code",
      "metadata": {
        "id": "ijy_n9owPnt3",
        "colab_type": "code",
        "colab": {}
      },
      "source": [
        ""
      ],
      "execution_count": 0,
      "outputs": []
    },
    {
      "cell_type": "markdown",
      "metadata": {
        "id": "lpIHqFxWPpMm",
        "colab_type": "text"
      },
      "source": [
        "+\n",
        "-\n",
        "*\n",
        "/\n"
      ]
    },
    {
      "cell_type": "code",
      "metadata": {
        "id": "3Rf_6sQkPu9k",
        "colab_type": "code",
        "colab": {
          "base_uri": "https://localhost:8080/",
          "height": 119
        },
        "outputId": "0f9b77f1-a930-49de-b81b-127979c38d5f"
      },
      "source": [
        "a = 1234\n",
        "print(a+10)\n",
        "print(a-10)\n",
        "print(a*10)\n",
        "print(a/10)\n",
        "print(a//10)\n",
        "print(a**10)"
      ],
      "execution_count": 19,
      "outputs": [
        {
          "output_type": "stream",
          "text": [
            "1244\n",
            "1224\n",
            "12340\n",
            "123.4\n",
            "123\n",
            "8187505353567209228244052427776\n"
          ],
          "name": "stdout"
        }
      ]
    },
    {
      "cell_type": "code",
      "metadata": {
        "id": "lGcThwh3O8aZ",
        "colab_type": "code",
        "colab": {}
      },
      "source": [
        ""
      ],
      "execution_count": 0,
      "outputs": []
    },
    {
      "cell_type": "markdown",
      "metadata": {
        "id": "v_sFDzQvR4UE",
        "colab_type": "text"
      },
      "source": [
        "# relational operator\n",
        "* =\n",
        "* ==\n",
        "* !=\n",
        "* <=\n",
        "* <\n",
        "*\n",
        " "
      ]
    },
    {
      "cell_type": "code",
      "metadata": {
        "id": "CAqEozBsSiJJ",
        "colab_type": "code",
        "colab": {
          "base_uri": "https://localhost:8080/",
          "height": 34
        },
        "outputId": "18b2857e-ba5c-4267-865f-695e9f6fbf2a"
      },
      "source": [
        "x = 10\n",
        "a1 = x>15\n",
        "print(a1)"
      ],
      "execution_count": 21,
      "outputs": [
        {
          "output_type": "stream",
          "text": [
            "False\n"
          ],
          "name": "stdout"
        }
      ]
    },
    {
      "cell_type": "code",
      "metadata": {
        "id": "ur5C_pnwSrko",
        "colab_type": "code",
        "colab": {}
      },
      "source": [
        ""
      ],
      "execution_count": 0,
      "outputs": []
    },
    {
      "cell_type": "markdown",
      "metadata": {
        "id": "7NOHgAdBS1C4",
        "colab_type": "text"
      },
      "source": [
        "# logical operators\n",
        "* and\n",
        "* or\n",
        "* not\n"
      ]
    },
    {
      "cell_type": "code",
      "metadata": {
        "id": "fArFG-YhTObg",
        "colab_type": "code",
        "colab": {
          "base_uri": "https://localhost:8080/",
          "height": 68
        },
        "outputId": "a69b08ad-bb4e-4a09-f158-44919c0f2672"
      },
      "source": [
        "i = 100\n",
        "a1 = (i>15) and (i<800)\n",
        "a2 = (i>15) or (i>800)\n",
        "i = not 100\n",
        "print(a1)\n",
        "print(a2)\n",
        "print(i)"
      ],
      "execution_count": 23,
      "outputs": [
        {
          "output_type": "stream",
          "text": [
            "True\n",
            "True\n",
            "False\n"
          ],
          "name": "stdout"
        }
      ]
    },
    {
      "cell_type": "code",
      "metadata": {
        "id": "KMxS01BDT6gd",
        "colab_type": "code",
        "colab": {}
      },
      "source": [
        ""
      ],
      "execution_count": 0,
      "outputs": []
    },
    {
      "cell_type": "markdown",
      "metadata": {
        "id": "u9rcoWeHUgj_",
        "colab_type": "text"
      },
      "source": [
        "# control flow statements\n",
        "* conditional statements\n",
        "* looping statements"
      ]
    },
    {
      "cell_type": "code",
      "metadata": {
        "id": "ICccIYZOUz5J",
        "colab_type": "code",
        "colab": {}
      },
      "source": [
        ""
      ],
      "execution_count": 0,
      "outputs": []
    },
    {
      "cell_type": "markdown",
      "metadata": {
        "id": "FqvH2XvRU8eH",
        "colab_type": "text"
      },
      "source": [
        "# if * else statements\n",
        "## syntax\n",
        "# if boolean_condition\n",
        "# statements\n",
        "# else"
      ]
    },
    {
      "cell_type": "code",
      "metadata": {
        "id": "X9VE8kKKVfXR",
        "colab_type": "code",
        "colab": {
          "base_uri": "https://localhost:8080/",
          "height": 51
        },
        "outputId": "e5b3e61e-1fef-43cd-869d-cafb68523ab8"
      },
      "source": [
        "# to check given is even or odd\n",
        "n = int(input(\"enter a number\"))\n",
        "if n%2 == 0:\n",
        " print(n,\"is even number\")\n",
        "else:\n",
        " print(n,\"is odd number\")"
      ],
      "execution_count": 29,
      "outputs": [
        {
          "output_type": "stream",
          "text": [
            "enter a number11\n",
            "11 is odd number\n"
          ],
          "name": "stdout"
        }
      ]
    },
    {
      "cell_type": "code",
      "metadata": {
        "id": "PQQrt5K4V4aK",
        "colab_type": "code",
        "colab": {
          "base_uri": "https://localhost:8080/",
          "height": 51
        },
        "outputId": "4478a286-3bcc-497b-8758-3892d8f67516"
      },
      "source": [
        "# to check given is perfectly multiple of 3 and 5\n",
        "n = int(input(\"enter a number\"))\n",
        "if n%3 == 0 and n%5 == 0:\n",
        " print(n,\"is perfectly multiple of 3 and 5\")\n",
        "else:\n",
        " print(n,\"is not perfectly multiple of 3and 5\")"
      ],
      "execution_count": 44,
      "outputs": [
        {
          "output_type": "stream",
          "text": [
            "enter a number15\n",
            "15 is perfectly multiple of 3 and 5\n"
          ],
          "name": "stdout"
        }
      ]
    },
    {
      "cell_type": "code",
      "metadata": {
        "id": "kdcvJSWAYHy9",
        "colab_type": "code",
        "colab": {
          "base_uri": "https://localhost:8080/",
          "height": 51
        },
        "outputId": "d92887b9-9bd2-4844-ec3c-2bc450529abe"
      },
      "source": [
        "# given number is id +ve -ve or zero\n",
        "n = int(input(\"enter a number\"))\n",
        "if n>0 == 0:\n",
        " print(n,\"is a positive number\")\n",
        "elif n<0 == 0:\n",
        " print(n,\"is a negative number\")\n",
        "else:\n",
        " print(n,\"is a zero\")"
      ],
      "execution_count": 56,
      "outputs": [
        {
          "output_type": "stream",
          "text": [
            "enter a number12\n",
            "12 is a positive number\n"
          ],
          "name": "stdout"
        }
      ]
    },
    {
      "cell_type": "code",
      "metadata": {
        "id": "6JT2NUMDa8zt",
        "colab_type": "code",
        "colab": {
          "base_uri": "https://localhost:8080/",
          "height": 51
        },
        "outputId": "35843f1c-f476-4b9f-8f5e-61e851827b54"
      },
      "source": [
        "# to check given number is a leap year\n",
        "n = int(input(\"enter a value\"))\n",
        "if n%4 == 0 and n%100 and n%400:\n",
        "  print(n,\"is a leap year\")\n",
        "else:\n",
        "  print(n,\"is not a leap year\")\n"
      ],
      "execution_count": 57,
      "outputs": [
        {
          "output_type": "stream",
          "text": [
            "enter a value2023\n",
            "2023 is not a leap year\n"
          ],
          "name": "stdout"
        }
      ]
    },
    {
      "cell_type": "code",
      "metadata": {
        "id": "ZALNtZMafKuR",
        "colab_type": "code",
        "colab": {}
      },
      "source": [
        "2023\n"
      ],
      "execution_count": 0,
      "outputs": []
    }
  ]
}